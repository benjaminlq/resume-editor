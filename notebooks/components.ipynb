{
 "cells": [
  {
   "cell_type": "code",
   "execution_count": 1,
   "metadata": {},
   "outputs": [],
   "source": [
    "import os\n",
    "import json\n",
    "import openai\n",
    "import urllib\n",
    "\n",
    "from retry import retry\n",
    "from IPython.display import Markdown\n",
    "\n",
    "from llama_index.core import SimpleDirectoryReader\n",
    "from llama_index.core.tools import FunctionTool\n",
    "from llama_index.core.schema import Document, MetadataMode\n",
    "from llama_index.core.indices import SummaryIndex\n",
    "from llama_index.core.text_splitter import SentenceSplitter\n",
    "from llama_index.core.prompts import PromptTemplate\n",
    "from llama_index.llms.openai import OpenAI\n",
    "from llama_index.agent.openai import OpenAIAgent\n",
    "\n",
    "from dotenv import load_dotenv\n",
    "load_dotenv()\n",
    "\n",
    "from config import DATA_DIR"
   ]
  },
  {
   "cell_type": "markdown",
   "metadata": {},
   "source": [
    "# CV Uploader"
   ]
  },
  {
   "cell_type": "code",
   "execution_count": 2,
   "metadata": {},
   "outputs": [],
   "source": [
    "CV_FILE_PATH = os.path.join(DATA_DIR, \"sample_cv.pdf\")\n",
    "\n",
    "cv_data = SimpleDirectoryReader(\n",
    "    input_files = [CV_FILE_PATH]).load_data()"
   ]
  },
  {
   "cell_type": "code",
   "execution_count": 3,
   "metadata": {},
   "outputs": [],
   "source": [
    "def combine_documents(\n",
    "    pages: Document\n",
    ") -> str:\n",
    "    combined_page_content = \"\"\n",
    "    for page in pages:\n",
    "        combined_page_content += page.get_content(metadata_mode = MetadataMode.LLM)\n",
    "    return combined_page_content"
   ]
  },
  {
   "cell_type": "code",
   "execution_count": 4,
   "metadata": {},
   "outputs": [],
   "source": [
    "LLM = OpenAI(model=\"gpt-4o\", max_tokens=4096)\n",
    "EXTRACTION_LLM = OpenAI(model=\"gpt-4o-mini\", max_tokens=4096)\n",
    "CRITIQUE_LLM = OpenAI(model=\"o1-preview\", max_completion_tokens=40000)"
   ]
  },
  {
   "cell_type": "markdown",
   "metadata": {},
   "source": [
    "# JD Extractor"
   ]
  },
  {
   "cell_type": "code",
   "execution_count": 5,
   "metadata": {},
   "outputs": [],
   "source": [
    "@retry(tries=5)\n",
    "def extract_url(\n",
    "    url: str\n",
    ") -> str:\n",
    "    f = urllib.request.urlopen(url)\n",
    "    url_content = f.read()\n",
    "    return url_content.decode('utf-8')\n",
    "\n",
    "def extract_job_description_from_url(\n",
    "    url: str\n",
    "):\n",
    "    \"\"\"\n",
    "    Use this function to extract the job description from the url\n",
    "    \"\"\"\n",
    "\n",
    "    MAX_CHUNK_SIZE = 128000\n",
    "    extraction_llm = EXTRACTION_LLM\n",
    "    sentence_splitter = SentenceSplitter(chunk_size = MAX_CHUNK_SIZE)\n",
    "    \n",
    "    url_content = extract_url(url)\n",
    "    jd_index = SummaryIndex.from_documents(\n",
    "        documents=[Document(text=url_content)],\n",
    "        transformations=[sentence_splitter.get_nodes_from_documents],\n",
    "    )\n",
    "\n",
    "    jd_extractor_query_engine = jd_index.as_query_engine(\n",
    "        llm=extraction_llm\n",
    "    )\n",
    "\n",
    "    jd = jd_extractor_query_engine.query(\"Extract Job Information from the HTML text given under context. Return empty string if there is no job description found from the url\")\n",
    "    return jd.response"
   ]
  },
  {
   "cell_type": "code",
   "execution_count": 6,
   "metadata": {},
   "outputs": [],
   "source": [
    "JD_DESCRIPTION_SYSTEM_PROMPT = \"\"\"You are an HR specialist with expertise in building effective resumes.\n",
    "You will be given a job description in text, which may contain URL links to the job description and requirements.\n",
    "If there are URLs relevant to describing job description and requirements, use the extraction tool to extract the information.\n",
    "Append the relevant information collected from the URLs to the original job description only if the content extracted are relevant.\n",
    "\n",
    "If there is no relevant information, return 'Please provide a valid job description in as text or URL link'\n",
    "\"\"\"\n",
    "\n",
    "jd_extraction_tool = FunctionTool.from_defaults(\n",
    "    fn=extract_job_description_from_url\n",
    ")\n",
    "\n",
    "jd_extraction_agent = OpenAIAgent.from_tools(\n",
    "    [jd_extraction_tool],\n",
    "    llm=LLM,\n",
    "    system_prompt=JD_DESCRIPTION_SYSTEM_PROMPT\n",
    ")"
   ]
  },
  {
   "cell_type": "code",
   "execution_count": 31,
   "metadata": {},
   "outputs": [],
   "source": [
    "jd_response = jd_extraction_agent.chat(\n",
    "    \"Data Scientist\"\n",
    ")"
   ]
  },
  {
   "cell_type": "markdown",
   "metadata": {},
   "source": [
    "# Content Critique"
   ]
  },
  {
   "cell_type": "code",
   "execution_count": 7,
   "metadata": {},
   "outputs": [],
   "source": [
    "CV_CRITIQUE_PROMPT = \"\"\"You are an HR specialist with expertise in building effective resumes.\n",
    "You will be given a job description and a resume. Based on the job description, critique the resume by focusing on the following:\n",
    "\n",
    "- How well the resume highlights the required skills and qualifications.\n",
    "- Areas where the resume could better align with the job description.\n",
    "- Suggestions for enhancing the structure, formatting, or presentation.\n",
    "- Any missing or underemphasized experiences or accomplishments that could strengthen the resume.\n",
    "- Also analyse if there are unnecessary content which does not provide values to the resume with respect to the job description.\n",
    "\n",
    "Be specific in your feedback and suggest actionable improvements. Also consider the job level of the resume and the job description. If you think that the resume is not suitable for the job, please explain why.\n",
    "\n",
    "<START OF RESUME>\n",
    "{resume}\n",
    "</END OF RESUME>\n",
    "\n",
    "<START OF JOB DESCRIPTION>\n",
    "{job_description}\n",
    "</END OF JOB DESCRIPTION>\n",
    "\"\"\"\n",
    "\n",
    "\n",
    "CV_CRITIQUE_PROMPT_TEMPLATE = PromptTemplate(CV_CRITIQUE_PROMPT)\n",
    "\n",
    "jd = extract_job_description_from_url(\n",
    "    \"https://www.grab.careers/en/jobs/744000010322415/senior-data-scientist/\"\n",
    ")\n",
    "\n",
    "response = CRITIQUE_LLM.complete(\n",
    "    CV_CRITIQUE_PROMPT_TEMPLATE.format(\n",
    "        resume=combine_documents(cv_data),\n",
    "        job_description=jd\n",
    "    )\n",
    ")"
   ]
  },
  {
   "cell_type": "markdown",
   "metadata": {},
   "source": [
    "# Layout Critique"
   ]
  },
  {
   "cell_type": "code",
   "execution_count": 8,
   "metadata": {},
   "outputs": [],
   "source": [
    "from llama_index.multi_modal_llms.openai import OpenAIMultiModal\n",
    "from llama_index.core.schema import ImageDocument\n",
    "from llama_index.core.prompts import ChatMessage, MessageRole\n",
    "from llama_index.multi_modal_llms.openai.utils import generate_openai_multi_modal_chat_message\n",
    "from pdf2image import convert_from_path\n",
    "from PIL import Image\n",
    "import base64\n",
    "import io\n",
    "\n",
    "cv_images = convert_from_path(CV_FILE_PATH, dpi=300)\n",
    "\n",
    "multi_model_llm = OpenAIMultiModal(\n",
    "    model=\"gpt-4o\",\n",
    "    max_new_tokens=1028,\n",
    "    temperature=0.2,\n",
    "    image_detail=\"high\"\n",
    ")"
   ]
  },
  {
   "cell_type": "code",
   "execution_count": 9,
   "metadata": {},
   "outputs": [],
   "source": [
    "def convert_PIL_to_base64(image: Image) -> str:\n",
    "    buffer = io.BytesIO()\n",
    "    image.save(buffer, format=\"PNG\")\n",
    "    buffer.seek(0)\n",
    "    base64_image = base64.b64encode(buffer.getvalue()).decode(\"utf-8\")\n",
    "    \n",
    "    return base64_image"
   ]
  },
  {
   "cell_type": "code",
   "execution_count": 10,
   "metadata": {},
   "outputs": [],
   "source": [
    "image_documents = [\n",
    "    ImageDocument(image=convert_PIL_to_base64(cv_image)) for cv_image in cv_images\n",
    "]"
   ]
  },
  {
   "cell_type": "code",
   "execution_count": 11,
   "metadata": {},
   "outputs": [],
   "source": [
    "CV_LAYOUT_CRITIQUE_SYSTEM_PROMPT = \"\"\"You are an honest and reliable HR specialist with expertise in building effective resumes.\n",
    "You are not afraid to constructively comment on the weak aspects of the resume. Be honest, do not make up information.\n",
    "You will be given a resume and optionally a job description. Your task is to critique the aesthetic aspects of the resume by focusing on the following:\n",
    "\n",
    "1. Layout and Structure:\n",
    "- Clarity and Organization: Use a clear, logical structure with well-defined sections.\n",
    "- White Space: Incorporate sufficient white space between sections to avoid clutter and make the document breathable.\n",
    "- Alignment: Maintain consistent alignment for headings, bullet points, and text blocks.\n",
    "- Margins: Keep balanced margins for a clean and organized look.\n",
    "\n",
    "2. Font choice, size and consistency:  Use professional, easy-to-read fonts, appropriate font size for headings and text contents. Use the same font throughout, reserving bold and italics for emphasis. Use font size, bolding, and spacing to guide the reader’s eye through the resume, ensuring the most important information (e.g., your name, job titles) stands out.\n",
    "\n",
    "3. Color Scheme: Choice of color for texts, highlights, headings, etc.\n",
    "\n",
    "4. Visual Elements: The usage appropriateness of icons or graphics. Design suitability for the job description and professionalism.\n",
    "\n",
    "5. Use of Bold and Italics to highlight important information such as names, job titles, section headers\n",
    "\n",
    "6. Consistency: Consistent formatting for dates, locations, and bullet points across different sections. Keep equal spacing between headings and paragraphs to ensure readability.\n",
    "\n",
    "7. Length and Page Breaks: Whether the resume's length is appropriate. Are page breaks clean between sections, without splitting information awkwardly across pages.\n",
    "\n",
    "8. Scannability:\n",
    "Bullet Points: Use bullet points to break up large blocks of text, making it easy for the recruiter to scan.\n",
    "Short Sentences: Keep sentences concise to improve readability.\n",
    "\n",
    "Be specific in your feedback. If possible, suggest actionable improvements, only if the improvements have not been done by the original resume.\n",
    "\"\"\""
   ]
  },
  {
   "cell_type": "code",
   "execution_count": 13,
   "metadata": {},
   "outputs": [],
   "source": [
    "messages = [\n",
    "    ChatMessage(content=CV_LAYOUT_CRITIQUE_SYSTEM_PROMPT, role=MessageRole.SYSTEM),\n",
    "    ChatMessage(content=f\"# Job description:\\n\\n{jd}\", role=MessageRole.SYSTEM),\n",
    "    generate_openai_multi_modal_chat_message(\n",
    "        prompt = \"resume\",\n",
    "        role = \"user\",\n",
    "        image_documents=image_documents,\n",
    "        image_detail=\"high\"\n",
    "        )\n",
    "]\n"
   ]
  },
  {
   "cell_type": "code",
   "execution_count": 61,
   "metadata": {},
   "outputs": [],
   "source": [
    "response = multi_model_llm.chat(messages)"
   ]
  },
  {
   "cell_type": "code",
   "execution_count": 63,
   "metadata": {},
   "outputs": [
    {
     "data": {
      "text/plain": [
       "'### Resume Critique\\n\\n**1. Layout and Structure:**\\n- **Clarity and Organization:** The resume is well-organized with clear sections for Work Experience, Technical Skills, Personal Projects, Education, and Others. Each section is clearly labeled, making it easy to navigate.\\n- **White Space:** There is a good amount of white space between sections, which helps to avoid clutter and makes the document breathable.\\n- **Alignment:** The alignment is consistent throughout the document. However, the alignment of dates could be improved to ensure they are all right-aligned for better readability.\\n- **Margins:** The margins are balanced, providing a clean and organized look.\\n\\n**2. Font Choice, Size, and Consistency:**\\n- **Font Choice:** The font choice is professional and easy to read.\\n- **Font Size:** The font size is appropriate for both headings and text content.\\n- **Consistency:** The font is consistent throughout the resume. However, the use of bold for job titles and company names could be more consistent. For example, in the \"Work Experience\" section, some job titles are bolded while others are not.\\n\\n**3. Color Scheme:**\\n- The color scheme is minimalistic, primarily using black text with some blue highlights for section headers. This is professional and suitable for the job description.\\n\\n**4. Visual Elements:**\\n- The resume does not use icons or graphics, which is appropriate for a professional data science role. The focus is on the content, which is suitable for the job description.\\n\\n**5. Use of Bold and Italics:**\\n- Bold is used effectively to highlight important information such as job titles, company names, and section headers. However, the use of bold could be more consistent across different sections.\\n\\n**6. Consistency:**\\n- The formatting for dates, locations, and bullet points is mostly consistent. However, the alignment of dates could be improved to ensure they are all right-aligned.\\n- Equal spacing between headings and paragraphs is maintained, ensuring readability.\\n\\n**7. Length and Page Breaks:**\\n- The resume is two pages long, which is appropriate given the level of experience and the amount of information provided.\\n- Page breaks are clean, and information is not split awkwardly across pages.\\n\\n**8. Scannability:**\\n- **Bullet Points:** Bullet points are used effectively to break up large blocks of text, making it easy for the recruiter to scan.\\n- **Short Sentences:** Sentences are concise, improving readability.\\n\\n### Actionable Improvements:\\n1. **Alignment of Dates:** Ensure all dates are right-aligned for better readability and consistency.\\n2. **Consistency in Bold Usage:** Use bold consistently for all job titles and company names to maintain a uniform look.\\n3. **Contact Information:** Consider adding a professional summary or objective at the top to provide a brief overview of your qualifications and career goals.\\n4. **Section Headers:** Use a slightly larger font size or a different color for section headers to make them stand out more.\\n5. **Technical Skills Section:** Consider breaking down the technical skills into subcategories (e.g., Programming Languages, Tools, Frameworks) for better clarity.\\n\\nOverall, the resume is well-structured and professional, with only minor improvements needed to enhance readability and consistency.'"
      ]
     },
     "execution_count": 63,
     "metadata": {},
     "output_type": "execute_result"
    }
   ],
   "source": [
    "response.message.content"
   ]
  },
  {
   "cell_type": "code",
   "execution_count": 23,
   "metadata": {},
   "outputs": [],
   "source": [
    "async def combine_analysis():\n",
    "    content_response = await CRITIQUE_LLM.acomplete(\n",
    "        CV_CRITIQUE_PROMPT_TEMPLATE.format(\n",
    "            resume=combine_documents(cv_data),\n",
    "            job_description=jd\n",
    "        )\n",
    "    )\n",
    "    layout_response = await multi_model_llm.achat(messages)\n",
    "    return content_response, layout_response\n",
    "\n",
    "import asyncio\n",
    "import nest_asyncio\n",
    "\n",
    "nest_asyncio.apply()\n",
    "\n",
    "analysis = asyncio.run(combine_analysis())"
   ]
  },
  {
   "cell_type": "code",
   "execution_count": 25,
   "metadata": {},
   "outputs": [],
   "source": [
    "tasks = [\n",
    "    CRITIQUE_LLM.acomplete(\n",
    "        CV_CRITIQUE_PROMPT_TEMPLATE.format(\n",
    "            resume=combine_documents(cv_data),\n",
    "            job_description=jd\n",
    "        )\n",
    "    ),\n",
    "    multi_model_llm.achat(messages)\n",
    "]\n",
    "\n",
    "content_response, layout_response = await asyncio.gather(*tasks)"
   ]
  },
  {
   "cell_type": "code",
   "execution_count": 22,
   "metadata": {},
   "outputs": [],
   "source": [
    "content_response = CRITIQUE_LLM.complete(\n",
    "    CV_CRITIQUE_PROMPT_TEMPLATE.format(\n",
    "        resume=combine_documents(cv_data),\n",
    "        job_description=jd\n",
    "    )\n",
    ")\n"
   ]
  },
  {
   "cell_type": "code",
   "execution_count": 21,
   "metadata": {},
   "outputs": [],
   "source": [
    "response = multi_model_llm.chat(messages)"
   ]
  },
  {
   "cell_type": "markdown",
   "metadata": {},
   "source": [
    "# Chatbot"
   ]
  },
  {
   "cell_type": "code",
   "execution_count": 4,
   "metadata": {},
   "outputs": [],
   "source": [
    "CHATBOT_LLM = OpenAI(model=\"gpt-4o-mini\", max_tokens=512, temperature=0.2)"
   ]
  },
  {
   "cell_type": "code",
   "execution_count": 5,
   "metadata": {},
   "outputs": [],
   "source": [
    "from llama_index.core.prompts import ChatMessage, MessageRole\n",
    "\n",
    "messages = [\n",
    "    ChatMessage(content=\"This is a conversation between a human and an AI. The AI is helpful, creative, clever, and very friendly.\", role=MessageRole.SYSTEM),\n",
    "    ChatMessage(content=\"What's 1 + 1?\", role=MessageRole.USER),\n",
    "    ChatMessage(content=\"2\", role=MessageRole.ASSISTANT),\n",
    "    ChatMessage(content=\"I am fine.\", role=MessageRole.USER),\n",
    "]"
   ]
  },
  {
   "cell_type": "code",
   "execution_count": 6,
   "metadata": {},
   "outputs": [],
   "source": [
    "response = CHATBOT_LLM.chat(messages)"
   ]
  },
  {
   "cell_type": "code",
   "execution_count": 9,
   "metadata": {},
   "outputs": [
    {
     "data": {
      "text/plain": [
       "\"I'm glad to hear that! How's your day going?\""
      ]
     },
     "execution_count": 9,
     "metadata": {},
     "output_type": "execute_result"
    }
   ],
   "source": [
    "response.message.content"
   ]
  },
  {
   "cell_type": "markdown",
   "metadata": {},
   "source": [
    "# CV Refine and Render"
   ]
  },
  {
   "cell_type": "code",
   "execution_count": 27,
   "metadata": {},
   "outputs": [],
   "source": [
    "content_analysis_response = \"\"\"\\\n",
    "### Overall Assessment\n",
    "\n",
    "Le Quan's resume is quite strong, especially for a mid-level to senior Data Scientist role. It showcases a solid blend of technical skills, relevant work experience, and academic achievements. However, there are areas for improvement in terms of structure, formatting, and emphasis on key accomplishments.\n",
    "\n",
    "### Highlights of Required Skills and Qualifications\n",
    "\n",
    "**Strengths:**\n",
    "- **Technical Skills:** The resume effectively lists a wide range of technical skills and tools, which are highly relevant for a Data Scientist role.\n",
    "- **Work Experience:** The work experience section is detailed and demonstrates hands-on experience with advanced machine learning and data science projects.\n",
    "- **Education:** The academic background is strong, with notable awards and a perfect GPA in a relevant master's program.\n",
    "\n",
    "**Weaknesses:**\n",
    "- **Soft Skills:** The resume lacks emphasis on soft skills such as teamwork, communication, and leadership, which are also important for senior roles.\n",
    "- **Impact Metrics:** While some accomplishments include metrics (e.g., \"reducing unnecessary scans expense by 15%\"), not all achievements are quantified.\n",
    "\n",
    "### Suggestions for Enhancing Structure, Formatting, and Presentation\n",
    "\n",
    "**1. Contact Information:**\n",
    "- **Current:** The contact information is clear but could be more concise.\n",
    "- **Improvement:** Consider placing the contact information in a single line to save space.\n",
    "\n",
    "**2. Professional Summary:**\n",
    "- **Current:** Missing.\n",
    "- **Improvement:** Add a professional summary at the top to provide a quick overview of your qualifications and career goals.\n",
    "\n",
    "**3. Work Experience:**\n",
    "- **Current:** Detailed but somewhat cluttered.\n",
    "- **Improvement:** Use bullet points more effectively to separate different tasks and achievements. Ensure each bullet point starts with an action verb and is concise.\n",
    "\n",
    "**4. Technical Skills:**\n",
    "- **Current:** Comprehensive but could be better organized.\n",
    "- **Improvement:** Group skills into categories (e.g., Programming Languages, Libraries, Platforms) for easier readability.\n",
    "\n",
    "**5. Personal Projects:**\n",
    "- **Current:** Detailed but could be overwhelming.\n",
    "- **Improvement:** Summarize the most impactful projects and focus on those that are most relevant to the job you are applying for.\n",
    "\n",
    "**6. Education:**\n",
    "- **Current:** Well-presented.\n",
    "- **Improvement:** No major changes needed, but consider adding relevant coursework or projects if space allows.\n",
    "\n",
    "**7. Others:**\n",
    "- **Current:** Brief but useful.\n",
    "- **Improvement:** Consider adding any relevant certifications or professional memberships.\n",
    "\n",
    "### Missing or Underemphasized Experiences or Accomplishments\n",
    "\n",
    "**1. Leadership and Teamwork:**\n",
    "- **Current:** Not explicitly mentioned.\n",
    "- **Improvement:** Highlight any leadership roles or teamwork experiences, especially in collaborative projects or team management.\n",
    "\n",
    "**2. Publications and Patents:**\n",
    "- **Current:** Not mentioned.\n",
    "- **Improvement:** If applicable, include any publications, patents, or contributions to open-source projects.\n",
    "\n",
    "**3. Soft Skills:**\n",
    "- **Current:** Not emphasized.\n",
    "- **Improvement:** Mention soft skills such as problem-solving, communication, and adaptability, either in the professional summary or within job descriptions.\n",
    "\n",
    "### Unnecessary Content\n",
    "\n",
    "**1. Detailed Technical Descriptions:**\n",
    "- **Current:** Some descriptions are overly technical and may not be easily understood by non-technical recruiters.\n",
    "- **Improvement:** Simplify technical jargon where possible and focus on the impact of your work.\n",
    "\n",
    "**2. Repetitive Information:**\n",
    "- **Current:** Some skills and tools are mentioned multiple times.\n",
    "- **Improvement:** Avoid redundancy by consolidating similar information.\n",
    "\n",
    "### Actionable Improvements\n",
    "\n",
    "1. **Add a Professional Summary:**\n",
    "   - Example: \"Data Scientist with over 5 years of experience in developing and deploying machine learning models in healthcare and industrial settings. Proven track record in optimizing processes and improving accuracy through advanced data analytics and AI techniques.\"\n",
    "\n",
    "2. **Reorganize Technical Skills:**\n",
    "   - Example:\n",
    "     ```\n",
    "     Technical Skills:\n",
    "     - Programming Languages: Python, R, SQL\n",
    "     - Libraries: Scikit-learn, TensorFlow, PyTorch\n",
    "     - Platforms: Google Cloud, Docker, Kubernetes\n",
    "     - Tools: Git, FastAPI, Langchain\n",
    "     ```\n",
    "\n",
    "3. **Quantify Achievements:**\n",
    "   - Example: \"Implemented a multi-modal RAG audit system to identify improper MRI scan orders, reducing unnecessary scans by 15% and saving radiologists 20 hours per month.\"\n",
    "\n",
    "4. **Highlight Soft Skills and Leadership:**\n",
    "   - Example: \"Led a team of 5 data scientists in developing a multi-stage LLM copilot for recommending thyroid cancer treatments, achieving over 90% accuracy.\"\n",
    "\n",
    "5. **Simplify Technical Descriptions:**\n",
    "   - Example: \"Developed a pipeline for handling various data types (texts, tables, images) to improve medical guideline retrieval.\"\n",
    "\n",
    "By addressing these areas, Le Quan can create a more polished and impactful resume that effectively highlights his qualifications and readiness for a senior Data Scientist role.\"\"\"\n",
    "\n",
    "layout_analysis_response = \"\"\"\\\n",
    "### Resume Critique\n",
    "\n",
    "#### 1. Layout and Structure:\n",
    "- **Clarity and Organization:** The resume is well-organized with clearly defined sections such as Work Experience, Technical Skills, Personal Projects, Education, and Others. This structure makes it easy to navigate.\n",
    "- **White Space:** There is a good amount of white space between sections, which helps in avoiding clutter and makes the document breathable.\n",
    "- **Alignment:** The alignment is consistent throughout the document, with headings, bullet points, and text blocks properly aligned.\n",
    "- **Margins:** The margins are balanced, contributing to a clean and organized look.\n",
    "\n",
    "#### 2. Font Choice, Size, and Consistency:\n",
    "- **Font Choice:** The font choice is professional and easy to read.\n",
    "- **Font Size:** The font size for headings and text content is appropriate. However, the contact information at the top could be slightly larger for better visibility.\n",
    "- **Consistency:** The font is consistent throughout the resume, with bold and italics used appropriately for emphasis.\n",
    "\n",
    "#### 3. Color Scheme:\n",
    "- The color scheme is minimalistic, primarily using black text on a white background with blue highlights for section headers. This is professional and easy on the eyes.\n",
    "\n",
    "#### 4. Visual Elements:\n",
    "- **Icons/Graphics:** There are no icons or graphics used, which is appropriate for a professional resume.\n",
    "- **Design Suitability:** The design is suitable for the job description and maintains a high level of professionalism.\n",
    "\n",
    "#### 5. Use of Bold and Italics:\n",
    "- Bold is used effectively to highlight important information such as job titles, company names, and section headers. Italics are used sparingly, which is good.\n",
    "\n",
    "#### 6. Consistency:\n",
    "- The formatting for dates, locations, and bullet points is consistent across different sections. Equal spacing between headings and paragraphs ensures readability.\n",
    "\n",
    "#### 7. Length and Page Breaks:\n",
    "- The resume is two pages long, which is appropriate given the amount of experience and skills listed. Page breaks are clean, without splitting information awkwardly across pages.\n",
    "\n",
    "#### 8. Scannability:\n",
    "- **Bullet Points:** Bullet points are used effectively to break up large blocks of text, making it easy for the recruiter to scan.\n",
    "- **Short Sentences:** Sentences are concise, improving readability.\n",
    "\n",
    "### Actionable Improvements:\n",
    "1. **Contact Information Visibility:** Increase the font size of the contact information at the top for better visibility.\n",
    "2. **Consistency in Date Format:** Ensure that the date format is consistent throughout the resume. For example, use either \"Apr 2023 – Current\" or \"Apr 2023 – Present\" consistently.\n",
    "3. **Section Headers:** Consider adding a bit more spacing above section headers to further distinguish them from the content above.\n",
    "4. **Technical Skills Section:** The technical skills section could benefit from a bit more organization, perhaps by grouping similar skills together or using subheadings.\n",
    "\n",
    "Overall, this is a strong resume with a professional layout and clear organization. The suggested improvements are minor and aimed at enhancing readability and consistency.\"\"\"\n",
    "\n",
    "OVERALL_ANALYSIS = f\"# Content Analysis\\n{content_analysis_response}\\n\\n\\n # Layout Analysis\\n{layout_analysis_response}\\n\""
   ]
  },
  {
   "cell_type": "code",
   "execution_count": 46,
   "metadata": {},
   "outputs": [],
   "source": [
    "CV_REVIEW_PROMPT = \"\"\"\\You are a senior career advisor. You are given an original resume, (optionally) a job description and a critique on the strengths and weaknesses of the resume.\n",
    "Your task is to use the critique to improve the resume. The improved version should address the weak points of the resume and implement the recommendations as needed.\n",
    "The output should only contain the improved resume, nothing else. The improved resume should be formatted in formatted Markdown format.\n",
    "\n",
    "{extra_instructions}\n",
    "\n",
    "<START OF RESUME>\n",
    "{resume}\n",
    "<END OF RESUME>\n",
    "\n",
    "<START OF JOB DESCRIPTION>\n",
    "{job_description}\n",
    "<END OF JOB DESCRIPTION>\n",
    "s\n",
    "<START OF CRITIQUE>\n",
    "{critique}\n",
    "<END OF CRITIQUE>\n",
    "\n",
    "IMPROVED RESUME:\n",
    "\"\"\"\n",
    "\n",
    "CV_REVIEW_PROMPT_TEMPLATE = PromptTemplate(CV_REVIEW_PROMPT)"
   ]
  },
  {
   "cell_type": "code",
   "execution_count": 36,
   "metadata": {},
   "outputs": [],
   "source": [
    "editted_cv = LLM.complete(\n",
    "    CV_REVIEW_PROMPT.format(\n",
    "        resume=combine_documents(cv_data),\n",
    "        job_description=jd,\n",
    "        critique=OVERALL_ANALYSIS\n",
    "    )\n",
    ").text"
   ]
  }
 ],
 "metadata": {
  "kernelspec": {
   "display_name": "venv",
   "language": "python",
   "name": "python3"
  },
  "language_info": {
   "codemirror_mode": {
    "name": "ipython",
    "version": 3
   },
   "file_extension": ".py",
   "mimetype": "text/x-python",
   "name": "python",
   "nbconvert_exporter": "python",
   "pygments_lexer": "ipython3",
   "version": "3.10.13"
  }
 },
 "nbformat": 4,
 "nbformat_minor": 2
}
